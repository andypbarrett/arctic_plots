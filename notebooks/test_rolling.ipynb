{
 "cells": [
  {
   "cell_type": "markdown",
   "metadata": {},
   "source": [
    "An example of how to calculate time series of seasonal averages (DJF1, MAM1, JJA1, SON1, DJF2, MAM2,...) from a time series of monthly grids using the rolling object in xarray."
   ]
  },
  {
   "cell_type": "code",
   "execution_count": 1,
   "metadata": {},
   "outputs": [
    {
     "name": "stdout",
     "output_type": "stream",
     "text": [
      "Populating the interactive namespace from numpy and matplotlib\n"
     ]
    }
   ],
   "source": [
    "%pylab inline"
   ]
  },
  {
   "cell_type": "code",
   "execution_count": 4,
   "metadata": {},
   "outputs": [],
   "source": [
    "import xarray as xr\n",
    "import numpy as np\n",
    "import pandas as pd"
   ]
  },
  {
   "cell_type": "markdown",
   "metadata": {},
   "source": [
    "## Generate a test data set"
   ]
  },
  {
   "cell_type": "code",
   "execution_count": 29,
   "metadata": {},
   "outputs": [
    {
     "data": {
      "text/plain": [
       "<xarray.DataArray (time: 12, x: 3, y: 5)>\n",
       "array([[[0.35977 , 0.565422, 0.210938, 0.792952, 0.085355],\n",
       "        [0.187973, 0.06471 , 0.226647, 0.790178, 0.571173],\n",
       "        [0.124212, 0.102916, 0.053614, 0.610464, 0.880025]],\n",
       "\n",
       "       [[0.545342, 0.293587, 0.563517, 0.460485, 0.587294],\n",
       "        [0.992031, 0.977436, 0.051096, 0.078986, 0.282043],\n",
       "        [0.11573 , 0.432967, 0.985252, 0.010901, 0.27323 ]],\n",
       "\n",
       "       [[0.533764, 0.546878, 0.943126, 0.29923 , 0.993986],\n",
       "        [0.963265, 0.534068, 0.761181, 0.639284, 0.381543],\n",
       "        [0.742412, 0.118085, 0.1644  , 0.090871, 0.521005]],\n",
       "\n",
       "       [[0.023849, 0.482714, 0.526002, 0.7694  , 0.791445],\n",
       "        [0.867117, 0.31588 , 0.784228, 0.765097, 0.689733],\n",
       "        [0.730251, 0.090332, 0.624075, 0.410771, 0.217034]],\n",
       "\n",
       "       [[0.634921, 0.259869, 0.408732, 0.1045  , 0.372487],\n",
       "        [0.608734, 0.366524, 0.292194, 0.553235, 0.936964],\n",
       "        [0.441155, 0.331004, 0.889506, 0.908125, 0.380662]],\n",
       "\n",
       "       [[0.918451, 0.931375, 0.349117, 0.632912, 0.510507],\n",
       "        [0.360747, 0.037062, 0.100381, 0.720082, 0.011718],\n",
       "        [0.533167, 0.614786, 0.678601, 0.012893, 0.88583 ]],\n",
       "\n",
       "       [[0.712937, 0.172511, 0.850565, 0.855356, 0.504412],\n",
       "        [0.039808, 0.717265, 0.658241, 0.512288, 0.370469],\n",
       "        [0.00551 , 0.442838, 0.677647, 0.321514, 0.438904]],\n",
       "\n",
       "       [[0.327067, 0.530504, 0.788171, 0.954453, 0.13748 ],\n",
       "        [0.355145, 0.100383, 0.904663, 0.252401, 0.3625  ],\n",
       "        [0.457446, 0.560849, 0.760854, 0.182821, 0.501201]],\n",
       "\n",
       "       [[0.620047, 0.624598, 0.184143, 0.034624, 0.878569],\n",
       "        [0.656654, 0.944578, 0.967894, 0.961977, 0.171025],\n",
       "        [0.253234, 0.882881, 0.878833, 0.960784, 0.828546]],\n",
       "\n",
       "       [[0.079554, 0.787756, 0.034526, 0.065053, 0.392476],\n",
       "        [0.120824, 0.505757, 0.97415 , 0.794037, 0.024564],\n",
       "        [0.779263, 0.124971, 0.073642, 0.775946, 0.015595]],\n",
       "\n",
       "       [[0.758663, 0.021701, 0.244958, 0.129471, 0.104417],\n",
       "        [0.472596, 0.599933, 0.681139, 0.807213, 0.062966],\n",
       "        [0.429628, 0.0785  , 0.352341, 0.071955, 0.764026]],\n",
       "\n",
       "       [[0.553943, 0.06474 , 0.622265, 0.719295, 0.760581],\n",
       "        [0.841767, 0.330918, 0.384249, 0.68841 , 0.863923],\n",
       "        [0.366807, 0.586432, 0.35915 , 0.591709, 0.752666]]])\n",
       "Coordinates:\n",
       "  * time     (time) datetime64[ns] 1999-01-01 1999-02-01 1999-03-01 ...\n",
       "  * x        (x) int64 0 1 2\n",
       "  * y        (y) int64 0 1 2 3 4"
      ]
     },
     "execution_count": 29,
     "metadata": {},
     "output_type": "execute_result"
    }
   ],
   "source": [
    "da = xr.DataArray(np.random.rand(12,3,5), \n",
    "                  coords=[pd.date_range('1/1/1999', periods=12, freq=pd.DateOffset(months=1)),\n",
    "                          np.arange(3), np.arange(5)], \n",
    "                  dims=['time','x','y'])\n",
    "\n",
    "da"
   ]
  },
  {
   "cell_type": "markdown",
   "metadata": {},
   "source": [
    "## Generate a rolling object with stride 3\n",
    "This assumes the monthly time series starts in January.  The (time=3) Window sets up the aggregator to do seasonal averages.  center=True assigns the time of the center month to the aggregated values (e.g. Jan 1 is assigned to DJF)."
   ]
  },
  {
   "cell_type": "code",
   "execution_count": 52,
   "metadata": {},
   "outputs": [
    {
     "data": {
      "text/plain": [
       "DataArrayRolling [window->3,center->True,dim->time]"
      ]
     },
     "execution_count": 52,
     "metadata": {},
     "output_type": "execute_result"
    }
   ],
   "source": [
    "r = da.rolling(time=3, center=True)\n",
    "r"
   ]
  },
  {
   "cell_type": "markdown",
   "metadata": {},
   "source": [
    "## Calculate seasonal means\n",
    "The rolling object aggregates DJF, JFM, FMA, MAM,....  For standard climatological seasons I only want every 3rd average, so I set stride=3.  The mean is then calculated over the window_dim, which is time in this case. "
   ]
  },
  {
   "cell_type": "code",
   "execution_count": 59,
   "metadata": {},
   "outputs": [
    {
     "data": {
      "text/plain": [
       "<xarray.DataArray (time: 4, x: 3, y: 5)>\n",
       "array([[[0.452556, 0.429505, 0.387227, 0.626718, 0.336325],\n",
       "        [0.590002, 0.521073, 0.138871, 0.434582, 0.426608],\n",
       "        [0.119971, 0.267942, 0.519433, 0.310682, 0.576627]],\n",
       "\n",
       "       [[0.397511, 0.42982 , 0.625953, 0.391043, 0.719306],\n",
       "        [0.813039, 0.405491, 0.612534, 0.652539, 0.669413],\n",
       "        [0.637939, 0.179807, 0.559327, 0.469922, 0.3729  ]],\n",
       "\n",
       "       [[0.652818, 0.544797, 0.662618, 0.81424 , 0.384133],\n",
       "        [0.2519  , 0.284903, 0.554429, 0.494923, 0.248229],\n",
       "        [0.332041, 0.539491, 0.7057  , 0.172409, 0.608645]],\n",
       "\n",
       "       [[0.486088, 0.478018, 0.154543, 0.076383, 0.458487],\n",
       "        [0.416691, 0.683423, 0.874394, 0.854409, 0.086185],\n",
       "        [0.487375, 0.362118, 0.434939, 0.602895, 0.536056]]])\n",
       "Coordinates:\n",
       "  * time     (time) datetime64[ns] 1999-01-01 1999-04-01 1999-07-01 1999-10-01\n",
       "  * x        (x) int64 0 1 2\n",
       "  * y        (y) int64 0 1 2 3 4"
      ]
     },
     "execution_count": 59,
     "metadata": {},
     "output_type": "execute_result"
    }
   ],
   "source": [
    "season = r.construct('window_dim', stride=3).mean(dim='window_dim')\n",
    "season"
   ]
  },
  {
   "cell_type": "markdown",
   "metadata": {},
   "source": [
    "We can do operations on the seasonal averages using groupby"
   ]
  },
  {
   "cell_type": "code",
   "execution_count": 44,
   "metadata": {},
   "outputs": [
    {
     "data": {
      "text/plain": [
       "{'DJF': [0], 'JJA': [2], 'MAM': [1], 'SON': [3]}"
      ]
     },
     "execution_count": 44,
     "metadata": {},
     "output_type": "execute_result"
    }
   ],
   "source": [
    "#fug = season.set_index(year = season.time.dt.year, append=True)\n",
    "season.groupby('time.season').groups"
   ]
  },
  {
   "cell_type": "code",
   "execution_count": null,
   "metadata": {},
   "outputs": [],
   "source": []
  }
 ],
 "metadata": {
  "kernelspec": {
   "display_name": "Python 3",
   "language": "python",
   "name": "python3"
  },
  "language_info": {
   "codemirror_mode": {
    "name": "ipython",
    "version": 3
   },
   "file_extension": ".py",
   "mimetype": "text/x-python",
   "name": "python",
   "nbconvert_exporter": "python",
   "pygments_lexer": "ipython3",
   "version": "3.6.4"
  }
 },
 "nbformat": 4,
 "nbformat_minor": 2
}
