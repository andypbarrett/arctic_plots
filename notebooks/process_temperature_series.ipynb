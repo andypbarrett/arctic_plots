{
 "cells": [
  {
   "cell_type": "code",
   "execution_count": 1,
   "metadata": {
    "collapsed": false
   },
   "outputs": [
    {
     "name": "stdout",
     "output_type": "stream",
     "text": [
      "Populating the interactive namespace from numpy and matplotlib\n"
     ]
    }
   ],
   "source": [
    "%pylab inline"
   ]
  },
  {
   "cell_type": "code",
   "execution_count": 15,
   "metadata": {
    "collapsed": false
   },
   "outputs": [],
   "source": [
    "import pandas as pd\n",
    "#from netCDF4 import Dataset, num2date\n",
    "import netCDF4 as ncdf"
   ]
  },
  {
   "cell_type": "code",
   "execution_count": 6,
   "metadata": {
    "collapsed": false
   },
   "outputs": [],
   "source": [
    "fili = r'/disks/arctic5_raid/abarrett/CFSR/T/1979/CFSR.T925.arctic.avg.1979.nc'\n",
    "nc = Dataset(fili)"
   ]
  },
  {
   "cell_type": "code",
   "execution_count": 16,
   "metadata": {
    "collapsed": false
   },
   "outputs": [
    {
     "data": {
      "text/plain": [
       "'1.1.9'"
      ]
     },
     "execution_count": 16,
     "metadata": {},
     "output_type": "execute_result"
    }
   ],
   "source": [
    "ncdf.__version__\n",
    "#num2date(nc.variables['time'][:]) #, 'days since 1900-01-01 00:00:00', calendar='standard')\n",
    "#nc.variables['time'].units"
   ]
  },
  {
   "cell_type": "code",
   "execution_count": 12,
   "metadata": {
    "collapsed": false
   },
   "outputs": [
    {
     "name": "stdout",
     "output_type": "stream",
     "text": [
      "Help on function num2date in module matplotlib.dates:\n",
      "\n",
      "num2date(x, tz=None)\n",
      "    *x* is a float value which gives the number of days\n",
      "    (fraction part represents hours, minutes, seconds) since\n",
      "    0001-01-01 00:00:00 UTC *plus* *one*.\n",
      "    The addition of one here is a historical artifact.  Also, note\n",
      "    that the Gregorian calendar is assumed; this is not universal\n",
      "    practice.  For details, see the module docstring.\n",
      "    \n",
      "    Return value is a :class:`datetime` instance in timezone *tz* (default to\n",
      "    rcparams TZ value).\n",
      "    \n",
      "    If *x* is a sequence, a sequence of :class:`datetime` objects will\n",
      "    be returned.\n",
      "\n"
     ]
    }
   ],
   "source": [
    "help (num2date)"
   ]
  },
  {
   "cell_type": "code",
   "execution_count": null,
   "metadata": {
    "collapsed": true
   },
   "outputs": [],
   "source": []
  }
 ],
 "metadata": {
  "kernelspec": {
   "display_name": "Python 2",
   "language": "python",
   "name": "python2"
  },
  "language_info": {
   "codemirror_mode": {
    "name": "ipython",
    "version": 2
   },
   "file_extension": ".py",
   "mimetype": "text/x-python",
   "name": "python",
   "nbconvert_exporter": "python",
   "pygments_lexer": "ipython2",
   "version": "2.7.11"
  }
 },
 "nbformat": 4,
 "nbformat_minor": 0
}
