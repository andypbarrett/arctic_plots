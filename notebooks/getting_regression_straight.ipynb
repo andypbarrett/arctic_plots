{
 "cells": [
  {
   "cell_type": "code",
   "execution_count": 1,
   "metadata": {},
   "outputs": [
    {
     "name": "stdout",
     "output_type": "stream",
     "text": [
      "Populating the interactive namespace from numpy and matplotlib\n"
     ]
    }
   ],
   "source": [
    "%pylab inline"
   ]
  },
  {
   "cell_type": "code",
   "execution_count": 19,
   "metadata": {},
   "outputs": [],
   "source": [
    "import numpy as np\n",
    "import matplotlib.pyplot as plt\n",
    "import scipy.stats"
   ]
  },
  {
   "cell_type": "markdown",
   "metadata": {},
   "source": [
    "## Example Data\n",
    "A challenging problem confronting water pollution and control is related to the tanning industry.  Tannery wastes are chemically complex, characterized by high values of chemical oxygen demand, volatile solids and other pollution measures.  The data below was obtained from 33 samples of chemically treated wastes collected by Virginia Polytechnic Institute and and State University.  The data are percent reduction in total solids (the independent variable) and chemical oxygen demand (the dependent variable)."
   ]
  },
  {
   "cell_type": "code",
   "execution_count": 4,
   "metadata": {},
   "outputs": [],
   "source": [
    "solids = np.array([3.,7.,11.,15.,18.,27.,29.,30.,30.,31.,31.,32.,33.,33.,34.,36.,36.,36.,\n",
    "                   37.,38.,39.,39.,39.,40.,41.,42.,42.,43.,44.,45.,46.,47.,50.])\n",
    "cod = np.array([5.,11.,21.,16.,16.,28.,27.,25.,35.,30.,40.,32.,34.,32.,34.,37.,38.,34.,\n",
    "                36.,38.,37.,36.,45.,39.,41.,40.,44.,37.,44.,46.,46.,49.,51.])"
   ]
  },
  {
   "cell_type": "code",
   "execution_count": 11,
   "metadata": {},
   "outputs": [
    {
     "data": {
      "text/plain": [
       "Text(0,0.5,'COD [%]')"
      ]
     },
     "execution_count": 11,
     "metadata": {},
     "output_type": "execute_result"
    },
    {
     "data": {
      "image/png": "[encoded data removed]",
      "text/plain": [
       "<matplotlib.figure.Figure at 0x7f9392b7f2e8>"
      ]
     },
     "metadata": {},
     "output_type": "display_data"
    }
   ],
   "source": [
    "fig, ax = plt.subplots(figsize=(8,8))\n",
    "ax.plot(solids, cod, 'o')\n",
    "ax.set_xlabel('% Solids Reduction')\n",
    "ax.set_ylabel('COD [%]')"
   ]
  },
  {
   "cell_type": "code",
   "execution_count": 39,
   "metadata": {},
   "outputs": [],
   "source": [
    "def predict(x, b, a):\n",
    "    \n",
    "    return a + b*x\n",
    "\n",
    "def my_linregress(x, y, b0=0.):\n",
    "    \n",
    "    n = x.size\n",
    "    \n",
    "    xanom = x - x.mean()\n",
    "    yanom = y - y.mean()\n",
    "    \n",
    "    sxx = (xanom**2).sum()\n",
    "    syy = (yanom**2).sum()\n",
    "    sxy = (yanom*xanom).sum()\n",
    "    \n",
    "    b = sxy / sxx             # Slope \n",
    "    a = y.mean() - x.mean()*b # Intercept\n",
    "    \n",
    "    df = n-2\n",
    "    s2 = (syy - b*sxy)/df\n",
    "    r = sxy / (sxx*syy)**0.5\n",
    "    t = (b-b0) / np.sqrt(s2/sxx)\n",
    "    \n",
    "    p = scipy.stats.t.sf(t, df)\n",
    "    \n",
    "    return (slope, intercept, r, t, p)"
   ]
  },
  {
   "cell_type": "code",
   "execution_count": 40,
   "metadata": {},
   "outputs": [
    {
     "data": {
      "text/plain": [
       "(0.9036432105793232,\n",
       " 3.8296331975887057,\n",
       " 0.9554793566657455,\n",
       " 18.029962435529033,\n",
       " 2.737706107412002e-18)"
      ]
     },
     "execution_count": 40,
     "metadata": {},
     "output_type": "execute_result"
    }
   ],
   "source": [
    "my_linregress(solids, cod)"
   ]
  },
  {
   "cell_type": "code",
   "execution_count": null,
   "metadata": {},
   "outputs": [],
   "source": []
  }
 ],
 "metadata": {
  "kernelspec": {
   "display_name": "Python 3",
   "language": "python",
   "name": "python3"
  },
  "language_info": {
   "codemirror_mode": {
    "name": "ipython",
    "version": 3
   },
   "file_extension": ".py",
   "mimetype": "text/x-python",
   "name": "python",
   "nbconvert_exporter": "python",
   "pygments_lexer": "ipython3",
   "version": "3.6.4"
  }
 },
 "nbformat": 4,
 "nbformat_minor": 2
}
